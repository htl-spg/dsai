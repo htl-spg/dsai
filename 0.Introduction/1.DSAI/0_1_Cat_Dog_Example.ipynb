{
 "cells": [
  {
   "cell_type": "code",
   "execution_count": null,
   "id": "51eb4992",
   "metadata": {},
   "outputs": [],
   "source": [
    "import pandas as pd\n",
    "\n",
    "# Read the CSV file\n",
    "cat_data = pd.read_csv(\"data/katzen.csv\").drop(columns=['Rasse', 'Alter', 'Geschlecht', 'Jagdverhalten (Gut; Mittel; Schlecht)'])\n",
    "dog_data = pd.read_csv(\"data/hunde.csv\").drop(columns=['Rasse', 'Alter'])\n",
    "cat_data.head()"
   ]
  },
  {
   "cell_type": "code",
   "execution_count": null,
   "id": "fd33fa4b",
   "metadata": {
    "scrolled": true
   },
   "outputs": [],
   "source": [
    "dog_data.head()"
   ]
  },
  {
   "cell_type": "code",
   "execution_count": null,
   "id": "3189312b",
   "metadata": {},
   "outputs": [],
   "source": [
    "import matplotlib.pyplot as plt\n",
    "dog_data['Gewicht (kg)'].hist(bins=10, legend=True, alpha=0.8)\n",
    "cat_data['Gewicht (kg)'].hist(bins=10, alpha=0.8, legend=True)\n",
    "plt.legend(['Hund', 'Katze'])\n",
    "plt.title('Hund vs. Katze Gewicht (kg)')\n",
    "plt.ylabel('Häufigkeit')\n",
    "plt.xlabel('Gewicht (kg)')\n",
    "plt.show()"
   ]
  },
  {
   "cell_type": "code",
   "execution_count": null,
   "id": "6ef48153",
   "metadata": {},
   "outputs": [],
   "source": [
    "import matplotlib.pyplot as plt\n",
    "dog_data['Temperatur (Celsius)'].hist(bins=10, legend=True, alpha=0.8)\n",
    "cat_data['Temperatur (Celsius)'].hist(bins=10, alpha=0.8, legend=True)\n",
    "plt.legend(['Hund', 'Katze'])\n",
    "plt.title('Hund vs. Katze Temperatur (Celsius)')\n",
    "plt.ylabel('Häufigkeit')\n",
    "plt.xlabel('Temperatur (Celsius)')\n",
    "plt.show()"
   ]
  },
  {
   "cell_type": "code",
   "execution_count": null,
   "id": "b1f7ecf1",
   "metadata": {},
   "outputs": [],
   "source": [
    "plt.scatter(y=dog_data['Temperatur (Celsius)'], x=dog_data['Gewicht (kg)'], alpha=0.8)\n",
    "plt.scatter(y=cat_data['Temperatur (Celsius)'], x=cat_data['Gewicht (kg)'], alpha=0.8)\n",
    "plt.legend(['Hund', 'Katze'])\n",
    "plt.title('Hund vs. Katze')\n",
    "plt.ylabel('Temperatur (Celsius)')\n",
    "plt.xlabel('Gewicht (kg)')\n",
    "plt.show()"
   ]
  }
 ],
 "metadata": {
  "kernelspec": {
   "display_name": "Python 3 (ipykernel)",
   "language": "python",
   "name": "python3"
  },
  "language_info": {
   "codemirror_mode": {
    "name": "ipython",
    "version": 3
   },
   "file_extension": ".py",
   "mimetype": "text/x-python",
   "name": "python",
   "nbconvert_exporter": "python",
   "pygments_lexer": "ipython3",
   "version": "3.11.4"
  }
 },
 "nbformat": 4,
 "nbformat_minor": 5
}
